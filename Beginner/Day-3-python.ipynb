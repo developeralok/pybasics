{
 "cells": [
  {
   "cell_type": "markdown",
   "metadata": {},
   "source": [
    "# day 3 #\n",
    "---\n",
    "usee:\n",
    "- dictionary\n",
    "-  list\n",
    "-  string function\n",
    "-  while loop/for loop\n",
    "- If condition"
   ]
  },
  {
   "cell_type": "code",
   "execution_count": 4,
   "metadata": {
    "collapsed": false
   },
   "outputs": [],
   "source": [
    "paragraph = \"\"\" In the US, annual copyright term expiry is set to begin again in 2019, after \n",
    "a 20-year hiatus due to the Copyright Term Extension Act of 1998. On January 1, 2019, items\n",
    "published in 1923 will enter the public domain in the US. In the early days of Project Gutenberg,\n",
    "growth of the public domain on January 1 was an annual event. See Duke Law's \"Public Domain Day\"for a \n",
    "listing of many items that were scheduled to enter the public domain, but have yet to do so because of the 1998 extension.\n",
    "It is possible that a new copyright term extension law will be introduced and passed, while attention\n",
    "is elsewhere. The 1998 extension, which was the last of 14 copyright term extensions in the 20th century, occurred at the \n",
    "same time as the impeachment of President Bill Clinton. Distraction was a benefit to that law's passage, and it is conceiv \"\"\""
   ]
  },
  {
   "cell_type": "code",
   "execution_count": 5,
   "metadata": {
    "collapsed": true
   },
   "outputs": [],
   "source": [
    "words = paragraph.split()"
   ]
  },
  {
   "cell_type": "code",
   "execution_count": 6,
   "metadata": {
    "collapsed": false
   },
   "outputs": [
    {
     "data": {
      "text/plain": [
       "['In',\n",
       " 'the',\n",
       " 'US,',\n",
       " 'annual',\n",
       " 'copyright',\n",
       " 'term',\n",
       " 'expiry',\n",
       " 'is',\n",
       " 'set',\n",
       " 'to',\n",
       " 'begin',\n",
       " 'again',\n",
       " 'in',\n",
       " '2019,',\n",
       " 'after',\n",
       " 'a',\n",
       " '20-year',\n",
       " 'hiatus',\n",
       " 'due',\n",
       " 'to',\n",
       " 'the',\n",
       " 'Copyright',\n",
       " 'Term',\n",
       " 'Extension',\n",
       " 'Act',\n",
       " 'of',\n",
       " '1998.',\n",
       " 'On',\n",
       " 'January',\n",
       " '1,',\n",
       " '2019,',\n",
       " 'items',\n",
       " 'published',\n",
       " 'in',\n",
       " '1923',\n",
       " 'will',\n",
       " 'enter',\n",
       " 'the',\n",
       " 'public',\n",
       " 'domain',\n",
       " 'in',\n",
       " 'the',\n",
       " 'US.',\n",
       " 'In',\n",
       " 'the',\n",
       " 'early',\n",
       " 'days',\n",
       " 'of',\n",
       " 'Project',\n",
       " 'Gutenberg,',\n",
       " 'growth',\n",
       " 'of',\n",
       " 'the',\n",
       " 'public',\n",
       " 'domain',\n",
       " 'on',\n",
       " 'January',\n",
       " '1',\n",
       " 'was',\n",
       " 'an',\n",
       " 'annual',\n",
       " 'event.',\n",
       " 'See',\n",
       " 'Duke',\n",
       " \"Law's\",\n",
       " '\"Public',\n",
       " 'Domain',\n",
       " 'Day\"for',\n",
       " 'a',\n",
       " 'listing',\n",
       " 'of',\n",
       " 'many',\n",
       " 'items',\n",
       " 'that',\n",
       " 'were',\n",
       " 'scheduled',\n",
       " 'to',\n",
       " 'enter',\n",
       " 'the',\n",
       " 'public',\n",
       " 'domain,',\n",
       " 'but',\n",
       " 'have',\n",
       " 'yet',\n",
       " 'to',\n",
       " 'do',\n",
       " 'so',\n",
       " 'because',\n",
       " 'of',\n",
       " 'the',\n",
       " '1998',\n",
       " 'extension.',\n",
       " 'It',\n",
       " 'is',\n",
       " 'possible',\n",
       " 'that',\n",
       " 'a',\n",
       " 'new',\n",
       " 'copyright',\n",
       " 'term',\n",
       " 'extension',\n",
       " 'law',\n",
       " 'will',\n",
       " 'be',\n",
       " 'introduced',\n",
       " 'and',\n",
       " 'passed,',\n",
       " 'while',\n",
       " 'attention',\n",
       " 'is',\n",
       " 'elsewhere.',\n",
       " 'The',\n",
       " '1998',\n",
       " 'extension,',\n",
       " 'which',\n",
       " 'was',\n",
       " 'the',\n",
       " 'last',\n",
       " 'of',\n",
       " '14',\n",
       " 'copyright',\n",
       " 'term',\n",
       " 'extensions',\n",
       " 'in',\n",
       " 'the',\n",
       " '20th',\n",
       " 'century,',\n",
       " 'occurred',\n",
       " 'at',\n",
       " 'the',\n",
       " 'same',\n",
       " 'time',\n",
       " 'as',\n",
       " 'the',\n",
       " 'impeachment',\n",
       " 'of',\n",
       " 'President',\n",
       " 'Bill',\n",
       " 'Clinton.',\n",
       " 'Distraction',\n",
       " 'was',\n",
       " 'a',\n",
       " 'benefit',\n",
       " 'to',\n",
       " 'that',\n",
       " \"law's\",\n",
       " 'passage,',\n",
       " 'and',\n",
       " 'it',\n",
       " 'is',\n",
       " 'conceiv']"
      ]
     },
     "execution_count": 6,
     "metadata": {},
     "output_type": "execute_result"
    }
   ],
   "source": [
    "words"
   ]
  },
  {
   "cell_type": "code",
   "execution_count": 7,
   "metadata": {
    "collapsed": false
   },
   "outputs": [
    {
     "name": "stdout",
     "output_type": "stream",
     "text": [
      "0 In\n",
      "1 the\n",
      "2 US,\n",
      "3 annual\n",
      "4 copyright\n",
      "5 term\n",
      "6 expiry\n",
      "7 is\n",
      "8 set\n",
      "9 to\n",
      "10 begin\n",
      "11 again\n",
      "12 in\n",
      "13 2019,\n",
      "14 after\n",
      "15 a\n",
      "16 20-year\n",
      "17 hiatus\n",
      "18 due\n",
      "19 to\n",
      "20 the\n",
      "21 Copyright\n",
      "22 Term\n",
      "23 Extension\n",
      "24 Act\n",
      "25 of\n",
      "26 1998.\n",
      "27 On\n",
      "28 January\n",
      "29 1,\n",
      "30 2019,\n",
      "31 items\n",
      "32 published\n",
      "33 in\n",
      "34 1923\n",
      "35 will\n",
      "36 enter\n",
      "37 the\n",
      "38 public\n",
      "39 domain\n",
      "40 in\n",
      "41 the\n",
      "42 US.\n",
      "43 In\n",
      "44 the\n",
      "45 early\n",
      "46 days\n",
      "47 of\n",
      "48 Project\n",
      "49 Gutenberg,\n",
      "50 growth\n",
      "51 of\n",
      "52 the\n",
      "53 public\n",
      "54 domain\n",
      "55 on\n",
      "56 January\n",
      "57 1\n",
      "58 was\n",
      "59 an\n",
      "60 annual\n",
      "61 event.\n",
      "62 See\n",
      "63 Duke\n",
      "64 Law's\n",
      "65 \"Public\n",
      "66 Domain\n",
      "67 Day\"for\n",
      "68 a\n",
      "69 listing\n",
      "70 of\n",
      "71 many\n",
      "72 items\n",
      "73 that\n",
      "74 were\n",
      "75 scheduled\n",
      "76 to\n",
      "77 enter\n",
      "78 the\n",
      "79 public\n",
      "80 domain,\n",
      "81 but\n",
      "82 have\n",
      "83 yet\n",
      "84 to\n",
      "85 do\n",
      "86 so\n",
      "87 because\n",
      "88 of\n",
      "89 the\n",
      "90 1998\n",
      "91 extension.\n",
      "92 It\n",
      "93 is\n",
      "94 possible\n",
      "95 that\n",
      "96 a\n",
      "97 new\n",
      "98 copyright\n",
      "99 term\n",
      "100 extension\n",
      "101 law\n",
      "102 will\n",
      "103 be\n",
      "104 introduced\n",
      "105 and\n",
      "106 passed,\n",
      "107 while\n",
      "108 attention\n",
      "109 is\n",
      "110 elsewhere.\n",
      "111 The\n",
      "112 1998\n",
      "113 extension,\n",
      "114 which\n",
      "115 was\n",
      "116 the\n",
      "117 last\n",
      "118 of\n",
      "119 14\n",
      "120 copyright\n",
      "121 term\n",
      "122 extensions\n",
      "123 in\n",
      "124 the\n",
      "125 20th\n",
      "126 century,\n",
      "127 occurred\n",
      "128 at\n",
      "129 the\n",
      "130 same\n",
      "131 time\n",
      "132 as\n",
      "133 the\n",
      "134 impeachment\n",
      "135 of\n",
      "136 President\n",
      "137 Bill\n",
      "138 Clinton.\n",
      "139 Distraction\n",
      "140 was\n",
      "141 a\n",
      "142 benefit\n",
      "143 to\n",
      "144 that\n",
      "145 law's\n",
      "146 passage,\n",
      "147 and\n",
      "148 it\n",
      "149 is\n",
      "150 conceiv\n",
      "number of words 151\n"
     ]
    }
   ],
   "source": [
    "index = 0\n",
    "while index < len(words):\n",
    "    print (index,words[index])\n",
    "    index +=1\n",
    "print ('number of words', len(words))\n",
    "    "
   ]
  },
  {
   "cell_type": "code",
   "execution_count": 14,
   "metadata": {
    "collapsed": false
   },
   "outputs": [
    {
     "data": {
      "text/plain": [
       "{'harry': 67, 99: 78}"
      ]
     },
     "execution_count": 14,
     "metadata": {},
     "output_type": "execute_result"
    }
   ],
   "source": [
    "freq = {}\n",
    "freq ['harry']=67\n",
    "freq [99] = 78\n",
    "freq"
   ]
  },
  {
   "cell_type": "code",
   "execution_count": 15,
   "metadata": {
    "collapsed": true
   },
   "outputs": [],
   "source": [
    "names = ['harry' , 'Alok', 'canvas']"
   ]
  },
  {
   "cell_type": "code",
   "execution_count": 20,
   "metadata": {
    "collapsed": false
   },
   "outputs": [],
   "source": [
    "names[0] = 'arjun'"
   ]
  },
  {
   "cell_type": "code",
   "execution_count": null,
   "metadata": {
    "collapsed": true
   },
   "outputs": [],
   "source": []
  },
  {
   "cell_type": "code",
   "execution_count": null,
   "metadata": {
    "collapsed": true
   },
   "outputs": [],
   "source": []
  },
  {
   "cell_type": "code",
   "execution_count": 24,
   "metadata": {
    "collapsed": false
   },
   "outputs": [
    {
     "name": "stdout",
     "output_type": "stream",
     "text": [
      "{'in': 0, 'the': 0, 'us': 0, 'annual': 0, 'copyright': 0, 'term': 0, 'expiry': 0, 'is': 0, 'set': 0, 'to': 0, 'begin': 0, 'again': 0, '2019': 0, 'after': 0, 'a': 0, '20-year': 0, 'hiatus': 0, 'due': 0, 'extension': 0, 'act': 0, 'of': 0, '1998': 0, 'on': 0, 'january': 0, '1': 0, 'items': 0, 'published': 0, '1923': 0, 'will': 0, 'enter': 0, 'public': 0, 'domain': 0, 'early': 0, 'days': 0, 'project': 0, 'gutenberg': 0, 'growth': 0, 'was': 0, 'an': 0, 'event': 0, 'see': 0, 'duke': 0, \"law's\": 0, '\"public': 0, 'day\"for': 0, 'listing': 0, 'many': 0, 'that': 0, 'were': 0, 'scheduled': 0, 'but': 0, 'have': 0, 'yet': 0, 'do': 0, 'so': 0, 'because': 0, 'it': 0, 'possible': 0, 'new': 0, 'law': 0, 'be': 0, 'introduced': 0, 'and': 0, 'passed': 0, 'while': 0, 'attention': 0, 'elsewhere': 0, 'which': 0, 'last': 0, '14': 0, 'extensions': 0, '20th': 0, 'century': 0, 'occurred': 0, 'at': 0, 'same': 0, 'time': 0, 'as': 0, 'impeachment': 0, 'president': 0, 'bill': 0, 'clinton': 0, 'distraction': 0, 'benefit': 0, 'passage': 0, 'conceiv': 0}\n"
     ]
    }
   ],
   "source": [
    "freq = {}\n",
    "index = 0\n",
    "while index <len(words):\n",
    "    word = words[index].strip ('.').strip (',').lower()\n",
    "    #word = words [index]\n",
    "    #word = word.strip{'.'}\n",
    "    #word = word.strip (',')\n",
    "    #word = word.lower ()\n",
    "    \n",
    "    freq[word] = 0\n",
    "    index+=1\n",
    "print(freq)"
   ]
  },
  {
   "cell_type": "code",
   "execution_count": null,
   "metadata": {
    "collapsed": true
   },
   "outputs": [],
   "source": [
    "freq ={}\n",
    "index = 0\n",
    "while index < len(words):\n",
    "    word = words[index].strip('.').strip(',').lower()"
   ]
  },
  {
   "cell_type": "code",
   "execution_count": 26,
   "metadata": {
    "collapsed": true
   },
   "outputs": [],
   "source": [
    "nfreq = {'A':6,'B':8 }"
   ]
  },
  {
   "cell_type": "code",
   "execution_count": null,
   "metadata": {
    "collapsed": true
   },
   "outputs": [],
   "source": [
    "nfreq['C']"
   ]
  },
  {
   "cell_type": "code",
   "execution_count": null,
   "metadata": {
    "collapsed": true
   },
   "outputs": [],
   "source": []
  },
  {
   "cell_type": "code",
   "execution_count": null,
   "metadata": {
    "collapsed": true
   },
   "outputs": [],
   "source": []
  },
  {
   "cell_type": "code",
   "execution_count": 27,
   "metadata": {
    "collapsed": false
   },
   "outputs": [
    {
     "name": "stdout",
     "output_type": "stream",
     "text": [
      "{'in': 1, 'the': 1, 'us': 1, 'annual': 1, 'copyright': 1, 'term': 1, 'expiry': 1, 'is': 1, 'set': 1, 'to': 1, 'begin': 1, 'again': 1, '2019': 1, 'after': 1, 'a': 1, '20-year': 1, 'hiatus': 1, 'due': 1, 'extension': 1, 'act': 1, 'of': 1, '1998': 1, 'on': 1, 'january': 1, '1': 1, 'items': 1, 'published': 1, '1923': 1, 'will': 1, 'enter': 1, 'public': 1, 'domain': 1, 'early': 1, 'days': 1, 'project': 1, 'gutenberg': 1, 'growth': 1, 'was': 1, 'an': 1, 'event': 1, 'see': 1, 'duke': 1, \"law's\": 1, '\"public': 1, 'day\"for': 1, 'listing': 1, 'many': 1, 'that': 1, 'were': 1, 'scheduled': 1, 'but': 1, 'have': 1, 'yet': 1, 'do': 1, 'so': 1, 'because': 1, 'it': 1, 'possible': 1, 'new': 1, 'law': 1, 'be': 1, 'introduced': 1, 'and': 1, 'passed': 1, 'while': 1, 'attention': 1, 'elsewhere': 1, 'which': 1, 'last': 1, '14': 1, 'extensions': 1, '20th': 1, 'century': 1, 'occurred': 1, 'at': 1, 'same': 1, 'time': 1, 'as': 1, 'impeachment': 1, 'president': 1, 'bill': 1, 'clinton': 1, 'distraction': 1, 'benefit': 1, 'passage': 1, 'conceiv': 1}\n"
     ]
    }
   ],
   "source": [
    "freq ={}\n",
    "index = 0\n",
    "while index < len(words):\n",
    "    word = words[index].strip('.').strip(',').lower()\n",
    "    if word in freq:\n",
    "        freq[word] =+1\n",
    "    else:\n",
    "        freq[word] =1\n",
    "    index += 1\n",
    "print (freq)"
   ]
  },
  {
   "cell_type": "code",
   "execution_count": 30,
   "metadata": {
    "collapsed": false
   },
   "outputs": [
    {
     "name": "stdout",
     "output_type": "stream",
     "text": [
      "Paragraph has 1\"in\"\n",
      "Paragraph has 1\"the\"\n",
      "Paragraph has 1\"us\"\n",
      "Paragraph has 1\"annual\"\n",
      "Paragraph has 1\"copyright\"\n",
      "Paragraph has 1\"term\"\n",
      "Paragraph has 1\"expiry\"\n",
      "Paragraph has 1\"is\"\n",
      "Paragraph has 1\"set\"\n",
      "Paragraph has 1\"to\"\n",
      "Paragraph has 1\"begin\"\n",
      "Paragraph has 1\"again\"\n",
      "Paragraph has 1\"2019\"\n",
      "Paragraph has 1\"after\"\n",
      "Paragraph has 1\"a\"\n",
      "Paragraph has 1\"20-year\"\n",
      "Paragraph has 1\"hiatus\"\n",
      "Paragraph has 1\"due\"\n",
      "Paragraph has 1\"extension\"\n",
      "Paragraph has 1\"act\"\n",
      "Paragraph has 1\"of\"\n",
      "Paragraph has 1\"1998\"\n",
      "Paragraph has 1\"on\"\n",
      "Paragraph has 1\"january\"\n",
      "Paragraph has 1\"1\"\n",
      "Paragraph has 1\"items\"\n",
      "Paragraph has 1\"published\"\n",
      "Paragraph has 1\"1923\"\n",
      "Paragraph has 1\"will\"\n",
      "Paragraph has 1\"enter\"\n",
      "Paragraph has 1\"public\"\n",
      "Paragraph has 1\"domain\"\n",
      "Paragraph has 1\"early\"\n",
      "Paragraph has 1\"days\"\n",
      "Paragraph has 1\"project\"\n",
      "Paragraph has 1\"gutenberg\"\n",
      "Paragraph has 1\"growth\"\n",
      "Paragraph has 1\"was\"\n",
      "Paragraph has 1\"an\"\n",
      "Paragraph has 1\"event\"\n",
      "Paragraph has 1\"see\"\n",
      "Paragraph has 1\"duke\"\n",
      "Paragraph has 1\"law's\"\n",
      "Paragraph has 1\"\"public\"\n",
      "Paragraph has 1\"day\"for\"\n",
      "Paragraph has 1\"listing\"\n",
      "Paragraph has 1\"many\"\n",
      "Paragraph has 1\"that\"\n",
      "Paragraph has 1\"were\"\n",
      "Paragraph has 1\"scheduled\"\n",
      "Paragraph has 1\"but\"\n",
      "Paragraph has 1\"have\"\n",
      "Paragraph has 1\"yet\"\n",
      "Paragraph has 1\"do\"\n",
      "Paragraph has 1\"so\"\n",
      "Paragraph has 1\"because\"\n",
      "Paragraph has 1\"it\"\n",
      "Paragraph has 1\"possible\"\n",
      "Paragraph has 1\"new\"\n",
      "Paragraph has 1\"law\"\n",
      "Paragraph has 1\"be\"\n",
      "Paragraph has 1\"introduced\"\n",
      "Paragraph has 1\"and\"\n",
      "Paragraph has 1\"passed\"\n",
      "Paragraph has 1\"while\"\n",
      "Paragraph has 1\"attention\"\n",
      "Paragraph has 1\"elsewhere\"\n",
      "Paragraph has 1\"which\"\n",
      "Paragraph has 1\"last\"\n",
      "Paragraph has 1\"14\"\n",
      "Paragraph has 1\"extensions\"\n",
      "Paragraph has 1\"20th\"\n",
      "Paragraph has 1\"century\"\n",
      "Paragraph has 1\"occurred\"\n",
      "Paragraph has 1\"at\"\n",
      "Paragraph has 1\"same\"\n",
      "Paragraph has 1\"time\"\n",
      "Paragraph has 1\"as\"\n",
      "Paragraph has 1\"impeachment\"\n",
      "Paragraph has 1\"president\"\n",
      "Paragraph has 1\"bill\"\n",
      "Paragraph has 1\"clinton\"\n",
      "Paragraph has 1\"distraction\"\n",
      "Paragraph has 1\"benefit\"\n",
      "Paragraph has 1\"passage\"\n",
      "Paragraph has 1\"conceiv\"\n"
     ]
    }
   ],
   "source": [
    "for item in freq:\n",
    "    print ('Paragraph has {}\"{}\"'.format(freq[item],item ))"
   ]
  },
  {
   "cell_type": "code",
   "execution_count": null,
   "metadata": {
    "collapsed": true
   },
   "outputs": [],
   "source": []
  },
  {
   "cell_type": "code",
   "execution_count": null,
   "metadata": {
    "collapsed": true
   },
   "outputs": [],
   "source": []
  }
 ],
 "metadata": {
  "kernelspec": {
   "display_name": "Python 3",
   "language": "python",
   "name": "python3"
  },
  "language_info": {
   "codemirror_mode": {
    "name": "ipython",
    "version": 3
   },
   "file_extension": ".py",
   "mimetype": "text/x-python",
   "name": "python",
   "nbconvert_exporter": "python",
   "pygments_lexer": "ipython3",
   "version": "3.6.0"
  }
 },
 "nbformat": 4,
 "nbformat_minor": 2
}
